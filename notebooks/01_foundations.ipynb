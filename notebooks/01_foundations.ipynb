{
 "cells": [
  {
   "cell_type": "markdown",
   "id": "65378f89",
   "metadata": {},
   "source": [
    "# 🌍 Phase 1 – Python Geoscience Foundations\n",
    "\n",
    "## ✨ Objective\n",
    "In this notebook, we explore core libraries for geospatial programming in Python.\n",
    "\n",
    "---"
   ]
  },
  {
   "cell_type": "markdown",
   "id": "377cf6ca",
   "metadata": {},
   "source": [
    "## 1. Environment Overview"
   ]
  },
  {
   "cell_type": "code",
   "execution_count": null,
   "id": "063fe979",
   "metadata": {},
   "outputs": [],
   "source": [
    "import geopandas as gpd\n",
    "import rasterio\n",
    "import fiona\n",
    "import shapely\n",
    "import pyproj\n",
    "import matplotlib.pyplot as plt"
   ]
  },
  {
   "cell_type": "markdown",
   "id": "ecf25c95",
   "metadata": {},
   "source": [
    "## 2. Reading Vector Data with Fiona / GeoPandas\n",
    "🧪 Task: Load and inspect a shapefile"
   ]
  },
  {
   "cell_type": "code",
   "execution_count": null,
   "id": "2f74aa55",
   "metadata": {},
   "outputs": [],
   "source": [
    "world = gpd.read_file(gpd.datasets.get_path('naturalearth_lowres'))\n",
    "world.head()"
   ]
  },
  {
   "cell_type": "markdown",
   "id": "992bf804",
   "metadata": {},
   "source": [
    "## 3. Projections with PyProj\n",
    "🧪 Task: Transform CRS of a dataset"
   ]
  },
  {
   "cell_type": "code",
   "execution_count": null,
   "id": "9f313bc5",
   "metadata": {},
   "outputs": [],
   "source": [
    "world = world.to_crs(\"EPSG:3857\")\n",
    "world.plot()"
   ]
  },
  {
   "cell_type": "markdown",
   "id": "f5731362",
   "metadata": {},
   "source": [
    "## 4. Raster Basics with Rasterio\n",
    "🧪 Task: Read and inspect raster metadata"
   ]
  },
  {
   "cell_type": "code",
   "execution_count": null,
   "id": "d26bb34f",
   "metadata": {},
   "outputs": [],
   "source": [
    "# Note: You'll need to replace \"path_to_raster.tif\" with an actual file path\n",
    "# try:\n",
    "#     with rasterio.open(\"path_to_raster.tif\") as src:\n",
    "#         print(src.profile)\n",
    "#         data = src.read(1)\n",
    "# except rasterio.RasterioIOError as e:\n",
    "#     print(f\"Error opening raster file: {e}\")\n",
    "#     print(\"Please provide a valid path to a raster file.\")"
   ]
  },
  {
   "cell_type": "markdown",
   "id": "3ca5716f",
   "metadata": {},
   "source": [
    "## 5. Mini Project: Reproject and Plot Raster + Vector Data\n",
    "Combine vector and raster layers with different CRSes and visualize them on a common map."
   ]
  },
  {
   "cell_type": "code",
   "execution_count": null,
   "id": "d8ebd385",
   "metadata": {},
   "outputs": [],
   "source": [
    "# Placeholder for the mini-project code"
   ]
  },
  {
   "cell_type": "markdown",
   "id": "2c9e2b4d",
   "metadata": {},
   "source": [
    "## 📝 Summary and Reflections\n",
    "*   What we covered\n",
    "*   Limitations or performance issues\n",
    "*   Ideas for automation or future notebooks"
   ]
  }
 ],
 "metadata": {
  "language_info": {
   "name": "python"
  }
 },
 "nbformat": 4,
 "nbformat_minor": 5
}
